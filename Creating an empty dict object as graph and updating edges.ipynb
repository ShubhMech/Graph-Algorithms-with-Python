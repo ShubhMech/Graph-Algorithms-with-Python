{
 "cells": [
  {
   "cell_type": "code",
   "execution_count": 2,
   "id": "6733f87e-537a-4634-b8e1-a82406b234c4",
   "metadata": {},
   "outputs": [],
   "source": [
    "class Graph:\n",
    "    def __init__(self,dict=None):\n",
    "        if dict== None:\n",
    "            dict= {}\n",
    "        \n",
    "        self.dict= dict\n",
    "        \n",
    "    def add_edge(self, vertex, edge):\n",
    "        self.dict[vertex].append(edge)\n",
    "\n",
    "dict1= {'a':['b', 'c'],'b':['a','d','e']}\n",
    "        \n",
    "ob1= Graph(dict1)"
   ]
  },
  {
   "cell_type": "code",
   "execution_count": 14,
   "id": "4a25abd5-38d8-4dbb-acd1-e5e70c61c63b",
   "metadata": {},
   "outputs": [],
   "source": [
    "dict11=((ob1.dict))"
   ]
  },
  {
   "cell_type": "code",
   "execution_count": 16,
   "id": "ee128eb9-e4d9-416a-9cfa-e758e98d0034",
   "metadata": {},
   "outputs": [
    {
     "data": {
      "text/plain": [
       "['b', 'c']"
      ]
     },
     "execution_count": 16,
     "metadata": {},
     "output_type": "execute_result"
    }
   ],
   "source": [
    "dict11.get('a')"
   ]
  },
  {
   "cell_type": "code",
   "execution_count": 17,
   "id": "920b632c-b4f2-4654-8242-9fca388b65e2",
   "metadata": {},
   "outputs": [
    {
     "data": {
      "text/plain": [
       "['a', 'd', 'e']"
      ]
     },
     "execution_count": 17,
     "metadata": {},
     "output_type": "execute_result"
    }
   ],
   "source": [
    "dict11.get('b')"
   ]
  },
  {
   "cell_type": "code",
   "execution_count": 18,
   "id": "334ed978-8779-4dfc-ac0c-71068908515c",
   "metadata": {},
   "outputs": [],
   "source": [
    "ob1.add_edge('a','e')"
   ]
  },
  {
   "cell_type": "code",
   "execution_count": 19,
   "id": "6f25e27c-ca3b-4e8e-8fbb-13c1ab7bc6af",
   "metadata": {},
   "outputs": [
    {
     "data": {
      "text/plain": [
       "{'a': ['b', 'c', 'e'], 'b': ['a', 'd', 'e']}"
      ]
     },
     "execution_count": 19,
     "metadata": {},
     "output_type": "execute_result"
    }
   ],
   "source": [
    "ob1.dict"
   ]
  },
  {
   "cell_type": "code",
   "execution_count": 26,
   "id": "e8b5f67f-e073-41b5-8b41-bef7659a9e7d",
   "metadata": {},
   "outputs": [],
   "source": [
    "ob2= Graph()"
   ]
  },
  {
   "cell_type": "code",
   "execution_count": 27,
   "id": "2da34058-d82f-4068-893b-fa3ce4820a18",
   "metadata": {},
   "outputs": [
    {
     "data": {
      "text/plain": [
       "{}"
      ]
     },
     "execution_count": 27,
     "metadata": {},
     "output_type": "execute_result"
    }
   ],
   "source": [
    "ob2.dict"
   ]
  },
  {
   "cell_type": "code",
   "execution_count": 31,
   "id": "f2e264dc-d615-4513-b300-a5be69d92bda",
   "metadata": {},
   "outputs": [],
   "source": [
    "ob2.dict['a']= ['b']"
   ]
  },
  {
   "cell_type": "code",
   "execution_count": 32,
   "id": "a8b82d8f-0382-4223-a394-960405bf3e88",
   "metadata": {},
   "outputs": [
    {
     "data": {
      "text/plain": [
       "{'a': ['b']}"
      ]
     },
     "execution_count": 32,
     "metadata": {},
     "output_type": "execute_result"
    }
   ],
   "source": [
    "ob2.dict"
   ]
  },
  {
   "cell_type": "code",
   "execution_count": 33,
   "id": "292cc71e-de6e-492e-986e-3068fb3b0091",
   "metadata": {},
   "outputs": [],
   "source": [
    "ob2.add_edge('a','c')"
   ]
  },
  {
   "cell_type": "code",
   "execution_count": 34,
   "id": "f6576360-43c2-47a0-a7fe-4efffd33288f",
   "metadata": {},
   "outputs": [
    {
     "data": {
      "text/plain": [
       "{'a': ['b', 'c']}"
      ]
     },
     "execution_count": 34,
     "metadata": {},
     "output_type": "execute_result"
    }
   ],
   "source": [
    "ob2.dict"
   ]
  },
  {
   "cell_type": "code",
   "execution_count": null,
   "id": "188a783f-594b-4fd7-9bca-31939cd6ee66",
   "metadata": {},
   "outputs": [],
   "source": []
  }
 ],
 "metadata": {
  "kernelspec": {
   "display_name": "Python 3",
   "language": "python",
   "name": "python3"
  },
  "language_info": {
   "codemirror_mode": {
    "name": "ipython",
    "version": 3
   },
   "file_extension": ".py",
   "mimetype": "text/x-python",
   "name": "python",
   "nbconvert_exporter": "python",
   "pygments_lexer": "ipython3",
   "version": "3.8.5"
  }
 },
 "nbformat": 4,
 "nbformat_minor": 5
}
