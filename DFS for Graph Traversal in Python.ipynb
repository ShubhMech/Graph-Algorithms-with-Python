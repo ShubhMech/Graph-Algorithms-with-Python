{
 "cells": [
  {
   "cell_type": "code",
   "execution_count": 78,
   "id": "6733f87e-537a-4634-b8e1-a82406b234c4",
   "metadata": {},
   "outputs": [],
   "source": [
    "class Graph:\n",
    "    def __init__(self,dict=None):\n",
    "        if dict== None:\n",
    "            dict= {}\n",
    "        \n",
    "        self.dict= dict\n",
    "        \n",
    "    def add_edge(self, vertex, edge):\n",
    "        self.dict[vertex].append(edge)\n",
    "        \n",
    "        \n",
    "    def bfs(self, vertex):\n",
    "        visited= [vertex]\n",
    "        queue= [vertex]\n",
    "        \n",
    "        while queue:\n",
    "            deVertex= queue.pop(0)\n",
    "            print(deVertex)\n",
    "            if deVertex in self.dict.keys():\n",
    "                for connecting_v in self.dict[deVertex]:\n",
    "                    if connecting_v not in visited:\n",
    "                        visited.append(connecting_v)\n",
    "                        queue.append(connecting_v)\n",
    "                        \n",
    "            else: \n",
    "                continue\n",
    "                    \n",
    "                    \n",
    "        \n",
    "    def dfs(self, vertex):\n",
    "        visited= [vertex]\n",
    "        queue= [vertex]\n",
    "        \n",
    "        while queue:\n",
    "            deVertex= queue.pop()\n",
    "            print(deVertex)\n",
    "            if deVertex in self.dict.keys():\n",
    "                for connecting_v in self.dict[deVertex]:\n",
    "                    if connecting_v not in visited:\n",
    "                        visited.append(connecting_v)\n",
    "                        queue.append(connecting_v)\n",
    "                        \n",
    "            else: \n",
    "                continue\n",
    "                    \n",
    "                \n",
    "        \n",
    "dict1= {'a':['b', 'c'],'b':['a','d','e'],'c':['a','e'],'d':['b','e','f'],'e':['d','f'], 'f':['d','e']}\n",
    "        \n",
    "ob1= Graph(dict1)"
   ]
  },
  {
   "cell_type": "code",
   "execution_count": 79,
   "id": "4a25abd5-38d8-4dbb-acd1-e5e70c61c63b",
   "metadata": {},
   "outputs": [],
   "source": [
    "dict11=((ob1.dict))"
   ]
  },
  {
   "cell_type": "code",
   "execution_count": 80,
   "id": "ee128eb9-e4d9-416a-9cfa-e758e98d0034",
   "metadata": {},
   "outputs": [
    {
     "data": {
      "text/plain": [
       "['b', 'c']"
      ]
     },
     "execution_count": 80,
     "metadata": {},
     "output_type": "execute_result"
    }
   ],
   "source": [
    "dict11.get('a')"
   ]
  },
  {
   "cell_type": "code",
   "execution_count": 81,
   "id": "920b632c-b4f2-4654-8242-9fca388b65e2",
   "metadata": {},
   "outputs": [
    {
     "data": {
      "text/plain": [
       "['a', 'd', 'e']"
      ]
     },
     "execution_count": 81,
     "metadata": {},
     "output_type": "execute_result"
    }
   ],
   "source": [
    "dict11.get('b')"
   ]
  },
  {
   "cell_type": "code",
   "execution_count": 82,
   "id": "334ed978-8779-4dfc-ac0c-71068908515c",
   "metadata": {},
   "outputs": [],
   "source": [
    "ob1.add_edge('a','e')"
   ]
  },
  {
   "cell_type": "code",
   "execution_count": 83,
   "id": "6f25e27c-ca3b-4e8e-8fbb-13c1ab7bc6af",
   "metadata": {},
   "outputs": [
    {
     "data": {
      "text/plain": [
       "{'a': ['b', 'c', 'e'],\n",
       " 'b': ['a', 'd', 'e'],\n",
       " 'c': ['a', 'e'],\n",
       " 'd': ['b', 'e', 'f'],\n",
       " 'e': ['d', 'f'],\n",
       " 'f': ['d', 'e']}"
      ]
     },
     "execution_count": 83,
     "metadata": {},
     "output_type": "execute_result"
    }
   ],
   "source": [
    "ob1.dict"
   ]
  },
  {
   "cell_type": "code",
   "execution_count": 84,
   "id": "e8b5f67f-e073-41b5-8b41-bef7659a9e7d",
   "metadata": {},
   "outputs": [],
   "source": [
    "ob2= Graph()"
   ]
  },
  {
   "cell_type": "code",
   "execution_count": 85,
   "id": "2da34058-d82f-4068-893b-fa3ce4820a18",
   "metadata": {},
   "outputs": [
    {
     "data": {
      "text/plain": [
       "{}"
      ]
     },
     "execution_count": 85,
     "metadata": {},
     "output_type": "execute_result"
    }
   ],
   "source": [
    "ob2.dict"
   ]
  },
  {
   "cell_type": "code",
   "execution_count": 86,
   "id": "f2e264dc-d615-4513-b300-a5be69d92bda",
   "metadata": {},
   "outputs": [],
   "source": [
    "ob2.dict['a']= ['b']"
   ]
  },
  {
   "cell_type": "code",
   "execution_count": 87,
   "id": "a8b82d8f-0382-4223-a394-960405bf3e88",
   "metadata": {},
   "outputs": [
    {
     "data": {
      "text/plain": [
       "{'a': ['b']}"
      ]
     },
     "execution_count": 87,
     "metadata": {},
     "output_type": "execute_result"
    }
   ],
   "source": [
    "ob2.dict"
   ]
  },
  {
   "cell_type": "code",
   "execution_count": 88,
   "id": "292cc71e-de6e-492e-986e-3068fb3b0091",
   "metadata": {},
   "outputs": [],
   "source": [
    "ob2.add_edge('a','c')"
   ]
  },
  {
   "cell_type": "code",
   "execution_count": 89,
   "id": "f6576360-43c2-47a0-a7fe-4efffd33288f",
   "metadata": {},
   "outputs": [
    {
     "data": {
      "text/plain": [
       "{'a': ['b', 'c']}"
      ]
     },
     "execution_count": 89,
     "metadata": {},
     "output_type": "execute_result"
    }
   ],
   "source": [
    "ob2.dict"
   ]
  },
  {
   "cell_type": "code",
   "execution_count": 90,
   "id": "188a783f-594b-4fd7-9bca-31939cd6ee66",
   "metadata": {},
   "outputs": [
    {
     "name": "stdout",
     "output_type": "stream",
     "text": [
      "a\n",
      "b\n",
      "c\n",
      "e\n",
      "d\n",
      "f\n"
     ]
    }
   ],
   "source": [
    "ob1.bfs('a')"
   ]
  },
  {
   "cell_type": "code",
   "execution_count": 91,
   "id": "fb9c1670-6b51-45ee-841b-49c9cb1e4489",
   "metadata": {},
   "outputs": [
    {
     "name": "stdout",
     "output_type": "stream",
     "text": [
      "a\n",
      "b\n",
      "c\n"
     ]
    }
   ],
   "source": [
    "ob2.bfs('a')"
   ]
  },
  {
   "cell_type": "code",
   "execution_count": 92,
   "id": "23d61475-59fc-4b9b-8514-af57925608b8",
   "metadata": {},
   "outputs": [],
   "source": [
    "ob2.dict['d']= ['e']"
   ]
  },
  {
   "cell_type": "code",
   "execution_count": 93,
   "id": "57d41272-a91b-439e-98ee-1a67f5ad477a",
   "metadata": {},
   "outputs": [
    {
     "name": "stdout",
     "output_type": "stream",
     "text": [
      "d\n",
      "e\n"
     ]
    }
   ],
   "source": [
    "ob2.bfs('d')"
   ]
  },
  {
   "cell_type": "code",
   "execution_count": 95,
   "id": "d2639d6f-d099-4f5d-8d6a-59c3a63a0042",
   "metadata": {},
   "outputs": [
    {
     "name": "stdout",
     "output_type": "stream",
     "text": [
      "a\n",
      "e\n",
      "f\n",
      "d\n",
      "c\n",
      "b\n"
     ]
    }
   ],
   "source": [
    "ob1.dfs('a')"
   ]
  },
  {
   "cell_type": "code",
   "execution_count": null,
   "id": "03a9ea08-e45f-4eab-bcb7-090e331b4525",
   "metadata": {},
   "outputs": [],
   "source": []
  },
  {
   "cell_type": "code",
   "execution_count": null,
   "id": "6be7a234-dc25-4408-9a07-b10b15005ffc",
   "metadata": {},
   "outputs": [],
   "source": []
  },
  {
   "cell_type": "code",
   "execution_count": null,
   "id": "e4b25883-c87c-42c7-af5d-b1b5bc57bb02",
   "metadata": {},
   "outputs": [],
   "source": []
  },
  {
   "cell_type": "code",
   "execution_count": null,
   "id": "496bbbcf-ed9b-4dd8-9f7d-d7ff151a05e4",
   "metadata": {},
   "outputs": [],
   "source": []
  },
  {
   "cell_type": "code",
   "execution_count": null,
   "id": "957b3efe-e64b-4cbe-bc45-99eedc8bd52b",
   "metadata": {},
   "outputs": [],
   "source": []
  },
  {
   "cell_type": "code",
   "execution_count": null,
   "id": "9e5da3e3-dc1e-4a1b-8446-490760157d00",
   "metadata": {},
   "outputs": [],
   "source": []
  },
  {
   "cell_type": "code",
   "execution_count": null,
   "id": "8dd68768-a753-4416-a7a3-775a88052deb",
   "metadata": {},
   "outputs": [],
   "source": []
  },
  {
   "cell_type": "code",
   "execution_count": null,
   "id": "6f78fe97-1065-415b-8aa6-eecf69604406",
   "metadata": {},
   "outputs": [],
   "source": []
  },
  {
   "cell_type": "code",
   "execution_count": null,
   "id": "a0297092-5cf5-43f4-8142-62ed90fa30ec",
   "metadata": {},
   "outputs": [],
   "source": []
  },
  {
   "cell_type": "code",
   "execution_count": null,
   "id": "559a5ab9-de66-4b69-ae39-b745fef541be",
   "metadata": {},
   "outputs": [],
   "source": []
  }
 ],
 "metadata": {
  "kernelspec": {
   "display_name": "Python 3",
   "language": "python",
   "name": "python3"
  },
  "language_info": {
   "codemirror_mode": {
    "name": "ipython",
    "version": 3
   },
   "file_extension": ".py",
   "mimetype": "text/x-python",
   "name": "python",
   "nbconvert_exporter": "python",
   "pygments_lexer": "ipython3",
   "version": "3.8.5"
  }
 },
 "nbformat": 4,
 "nbformat_minor": 5
}
